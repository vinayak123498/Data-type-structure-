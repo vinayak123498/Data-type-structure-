{
  "nbformat": 4,
  "nbformat_minor": 0,
  "metadata": {
    "colab": {
      "provenance": []
    },
    "kernelspec": {
      "name": "python3",
      "display_name": "Python 3"
    },
    "language_info": {
      "name": "python"
    }
  },
  "cells": [
    {
      "cell_type": "markdown",
      "source": [
        "# THEORITICAL QUESTIONS"
      ],
      "metadata": {
        "id": "SA0n4ZGOfWGe"
      }
    },
    {
      "cell_type": "markdown",
      "source": [
        "# Answer 1\n",
        "**Data structures means organinzing and storing data in a computer so that we can use it efficiently.Data structures use computer to store data  in order and find or change when it become necessary.For example we use shelves,drawer or folders to store things in a order .**\n",
        "\n",
        "# Imortance of data structures\n",
        "1) **Efficient use of memory**-> *Data structure create a space to store a data in the right way.*\n",
        "\n",
        "2)**Faster Processing->**With the help of data structure ,it help in arrange the program to run faster abd furiously.\n",
        "\n",
        "3)**Organized Code**->*With the help of data structures* .*Program will become easier to run ,manage ,understand and expand.*\n",
        "\n",
        "4)**Solve complex problem->**With the help of advanced data structures to handle and analyze large amount of data to solve the real life problem.\n",
        "\n",
        "5)**Basis of Algorithms->**Data structure inlove the uses of Algorithms .Algorithms worl close to close with Data structure."
      ],
      "metadata": {
        "id": "7s4f6SJ8Lb6r"
      }
    },
    {
      "cell_type": "markdown",
      "source": [
        "# Answer 2\n",
        "\n",
        "**Mutable data types means is a type of data types whose content canbe changed** **after it is created.It can be add,remove or change elements in the object.**\n",
        "**The** **obect itself remains the same in memory.**\n",
        " **EXample** : 1)**List**\n",
        "           2)**Dictionery**\n",
        "           3)** Set**\n",
        "\n",
        "\n",
        "**Immutable data types means is a type of data type whose content cannot be changed after it is created.It cannot be add,remove or change elements in the object.**\n",
        "**Example: 1)String\n",
        "         2)Tuple\n",
        "         3) Integer\n",
        "         4)Float\n",
        "         5)Boolean**\n",
        "\n",
        "      "
      ],
      "metadata": {
        "id": "9GlBqM6GROwv"
      }
    },
    {
      "cell_type": "markdown",
      "source": [
        "# Answer 3\n",
        "**List**\n",
        "\n",
        "1)*It is mutable means it can be add ,remove or update.*\n",
        "2)*It use Square bracket[].*\n",
        "3)*List is very slow because of presence of changeable elements .*\n",
        "4)*List is less safe because of presence of modifiable elements.*\n",
        "5)*List contain many built in methods like .append(),.remove(),.sort() etc.*\n",
        "\n",
        "**Tuple**\n",
        "\n",
        "\n",
        "1)*It is immutable means means it cannog be added,removed or updated.*\n",
        "2)*It is use round bracket().*\n",
        "3)*Tuple is very faster because of it's restricted modification.*\n",
        "4)*Tuple is very safer as it doesn't allow data to be modifieed.*\n",
        "5)*Tuple contain few mwthods like .count() and .index().*"
      ],
      "metadata": {
        "id": "_AZqmpBvV5Ic"
      }
    },
    {
      "cell_type": "markdown",
      "source": [
        "# Answer 4\n",
        "\n",
        "**Dictionaries using the key -pair value built in function  to store the data in data structures.key are the name or label to store the value.Value are the actual data store by the key.Each key has a hash .These hast used to store the value in the memory.Because of hash, it allow the fast operations like adding or removing values.**"
      ],
      "metadata": {
        "id": "zpCVgstrZVaO"
      }
    },
    {
      "cell_type": "markdown",
      "source": [
        "# Answer 5\n",
        "\n",
        " **Of course both used to make the collection of items.However,thera are many difference between set and list.It help to remove the duplicate value.It help in store the unique value.Set is faster than list because it consist  hash.Set allow the mathematical operation like Union(),intersection(),Diffrerence(-).Set is widely safer in spite of having unordered elements.**"
      ],
      "metadata": {
        "id": "7CB0iGtPcO-5"
      }
    },
    {
      "cell_type": "markdown",
      "source": [
        "# Answer 6\n",
        "\n",
        "\n",
        "**A string is the collection of characters.It used to store the texts like symbol,sentences,words.A string contain Letters(A-Z.a-z),numbers(0-9),symbols(!,@,#,),spaces,punctuation,or even emojis.String in python written in double quotes  or single quotes.**\n",
        "\n",
        "**A List is the collection of an any type like string,numbers,booleans,and even others also.A lists is covered by square bracket[].The items in square are separated by commas.**"
      ],
      "metadata": {
        "id": "e2Xpn370ZF7o"
      }
    },
    {
      "cell_type": "markdown",
      "source": [
        "# Answer 7\n",
        "\n",
        "**A tuple is the collection of the elements which are full of immutable.once it is created it cannot be modified nor changeable.\n",
        "A Data Interity is the data which is full of correct,consistent, and protected from any modification.In programming it is very important to hold elements as safe from any modification.**\n",
        "\n",
        "# The way tuple help in maintain data integrity:>\n",
        "\n",
        "->**Immutability**  *means all the collection of elemenets in python are not changeable nor it is modifiables.None of items can be added,removed,or updated.*\n",
        "\n",
        "    \n",
        "\n",
        "->\n",
        "**Safe to use in function or program**   *means passing the tuple to an function.It is impossiblef  to bring variation in the items of the python.*"
      ],
      "metadata": {
        "id": "SHWZuMqQauOT"
      }
    },
    {
      "cell_type": "markdown",
      "source": [
        "# Answer 8\n",
        "\n",
        "**Hash Table is the system of storing the value and data in the data structures.\n",
        "With the help of hash table ,it convert the keys into indexes or numberes in the memory.Through indexes or numbers it help in store the value.It is related to dictionaries because it the keys assocciated with hash .Hash function used to convert the keys into numbers or indexes.Through the indexes or number is used to store the value in the memory.**"
      ],
      "metadata": {
        "id": "MMDkDydQd07F"
      }
    },
    {
      "cell_type": "markdown",
      "source": [
        "# Answer 9\n",
        "\n",
        "**List is the typen of data type which include the collection of items.It is usually started by the [].The each elements in the list are separated by commas.**\n",
        "**Yes  it involve the storage of different elements.**\n",
        "\n",
        "\n",
        "**elements->>**\n",
        "\n",
        "\n",
        "\n",
        "\n",
        "* 42 is the integer data type*\n",
        "\n",
        "\n",
        "\n",
        "\n",
        "\n",
        "\n",
        "* \"hello world \" is the string.*\n",
        "\n",
        "\n",
        "\n",
        "\n",
        "\n",
        "\n",
        "* 3.14 is the float*\n",
        "\n",
        "\n",
        "\n",
        "\n",
        "\n",
        "\n",
        "* True is the Boolean.*\n",
        "\n",
        "\n",
        "\n",
        "\n",
        "\n",
        "\n",
        "* [1,2,3] is the list*\n",
        "\n",
        "\n",
        "\n",
        "\n",
        "\n",
        "* {\"name\":\"Vinayak\"} is the dictionaries*\n",
        "\n",
        "\n",
        "\n",
        "\n",
        "\n",
        "\n",
        "\n",
        "\n",
        "\n",
        "\n"
      ],
      "metadata": {
        "id": "JhrRxxktiwKk"
      }
    },
    {
      "cell_type": "markdown",
      "source": [
        "# Answer 10\n",
        "\n",
        "**String is immutable because of various reason in following ways :>>**\n",
        "* **IT is a simplicity and safety :->>** *It is because the strings is immutable ,it is easier to write safe code.*\n",
        "* **It is a performable and speed:->>** *Because of string is immutable .It can be surely reusable with high speed .This can make the program faser and faster.*\n",
        "* **String in the hash format->>** *It means it can be able to make the conversion of keys into number to store the value or data.Hash value remain same because of string remain the same.*\n",
        "* **It is fully relaible as it deem to be work with dictionaries.**\n",
        "* **It is simple understanable and mangeable.**"
      ],
      "metadata": {
        "id": "3ITsoHIXkh9X"
      }
    },
    {
      "cell_type": "markdown",
      "source": [
        "# Answer 11\n",
        "\n",
        "**Both lists and dictionaries work differently .In spite of having common characterestices ,there are few difference between them.Dictionaries is more great ,safer and efficient than lists.**\n",
        "\n",
        "* **Access the data->>** *It use the keys like labels or name and may be some certain index to access the numbers.*\n",
        "* **It is easy readable->>**  * It is more readible because it consisit self descriptive and easy characteristices to read.*\n",
        "* **Not necessary to remembers->>** In dictionaries ,use the keys to remember the value to stored.Keys assocciated with hash to described as name,labels,or indexes.\n",
        "* **Fast and Furious->>** *dictionaries is much faster than lists because of presence of key to acesss the value.*\n",
        "* **Flexible->>** *It able do connect the data together.*\n"
      ],
      "metadata": {
        "id": "Wr7x8SlQn_5C"
      }
    },
    {
      "cell_type": "markdown",
      "source": [
        "# Answer 12\n",
        "\n",
        "**Preferable use of a tuple over a Lists:>>**\n",
        "\n",
        "\n",
        "* **Protection of data intergrity=>>** *None changeable elements in tuple aceess the protection of data intergrity.\n",
        "* **Faster =>>** Tuple is faster than a list because it consist the readeable elements.\n",
        "* **Use of keys=>>** *Tuple have the potential to use key dictionaries or can include the elements of sets*\n",
        "* **Pass to function remain constant=>>**  *When the group of values passing to function,it alaways be nor changeable and constant.*\n",
        "* **Make the stability=>>** *It is eligible to make the  data  more stability.*"
      ],
      "metadata": {
        "id": "NRFcMISFx29r"
      }
    },
    {
      "cell_type": "markdown",
      "source": [
        "# Answer 13\n",
        "\n",
        "Set are such data type which automatically remove the elements which are duplicate in nature .Set are always hold te unique charactersitices of elements.\n",
        "\n"
      ],
      "metadata": {
        "id": "bhtKg1L02Psw"
      }
    },
    {
      "cell_type": "markdown",
      "source": [
        "# Answer 14\n",
        "\n",
        "**In python,keyword in are used to check wheather the items/elements are exist in collection or not.\n",
        "If it is exist then it deliver true oyherwise false.**\n",
        "\n",
        "**In keywords in list[]=>>** *It check whether the elements exist in list collection.\n",
        "It start from the begin to ends.*\n",
        "\n",
        "**In keywords in dictionary{}=>>** *It check whether the keys is there or not in the dictionary collection.*\n"
      ],
      "metadata": {
        "id": "DKMUULklKiy4"
      }
    },
    {
      "cell_type": "markdown",
      "source": [
        "# Answer 15\n",
        "\n",
        "**No, of course no because Tuple are made according to the mean that the elements in collection can't be modifiable nor changeable. If try to do some modification ,it will always show error .tuple collection is important for data intergrity,Fast operation and flexibilty.**"
      ],
      "metadata": {
        "id": "AbmrR14XXAqk"
      }
    },
    {
      "cell_type": "markdown",
      "source": [
        "# Answer 16\n",
        "\n",
        "Nested dictionary is the such dictionery found inside the another dictionery.\n",
        "It is used to store the structure inside the other dictionary.\n",
        "\n"
      ],
      "metadata": {
        "id": "OeL1vtiMYg4n"
      }
    },
    {
      "cell_type": "markdown",
      "source": [
        "# example\n",
        "REcorded={\"name\":\"Vinayak Prasad\",\"Date of birth\":19/10/2004 \"Class\":{\"Bcom\":\"2ndyear\"\n",
        " \"LLb\":\"5th year\"}}\n"
      ],
      "metadata": {
        "id": "o20tKot7aPWw"
      }
    },
    {
      "cell_type": "markdown",
      "source": [
        "# Answer 17\n",
        "\n",
        "**Let explain this with the help of example that suppose you draw\n",
        "person={\"name\":\"Vinayak\",\"age\":20}\n",
        "print(person[\"name\"])\n",
        "To accessing the value which combine with key\"name\".Python use hash table to make the program faster and cleaner.In most cases ,we use the time complexity\n",
        "0(1) to accessing the value by key(dict[key]).Python use such hash function to accessing the value associated  with the key through 0(1).**"
      ],
      "metadata": {
        "id": "iRukVQBwb5GH"
      }
    },
    {
      "cell_type": "markdown",
      "source": [
        "# Answer 18\n",
        "\n",
        "**The way the list is well preferable over dictionary.\n",
        "1)Maintain order=It is able to make the element in such order as you desire.\n",
        "2)Don't need keys=Storing the value in list is easy .\n",
        "3)List allow the duplicate value to be store in collection.\n",
        "4)List have tools for sorting,reversing,slicing,appending,removing,changing elements.\n",
        "5) It gives the simple sequence of items in list .It is clear and simpler to use.**"
      ],
      "metadata": {
        "id": "sZuMKI9ydjFZ"
      }
    },
    {
      "cell_type": "markdown",
      "source": [
        "# Answer 19\n",
        "\n",
        "**In dictionary ,the unordered collection where element doesn't contain the fix position or index .In general ,the value is stored in key assocciated with hash type.It is originally considered as unordered because it from the begining doesn't give the gurantee of the order where our desire elementorinted.The order of key regularly change as it deem to affect the value associated with it.That,swhy it is tell as unordered collection.This statement is also a reason why dictionery afect the data retrieval.**"
      ],
      "metadata": {
        "id": "DiHuFw8ZfroX"
      }
    },
    {
      "cell_type": "markdown",
      "source": [
        "# Answer 20\n",
        "\n",
        "**In the case of list and dictionaery in data retreival:**\n",
        "\n",
        "* *List is the collection of elements ordered by indexs.\n",
        "Dictionary is the collection of key-valu accessed by keys.*\n",
        "\n",
        "*  *List structure is ordered sequence .\n",
        "dictionary is unordered sequence of key-pair value.*\n",
        "\n",
        "* *List have the low retrival speed.\n",
        "Dictionary have the high retrival speed.*\n",
        "\n",
        "* *List raise the elements by indexs.\n",
        "Dictionary  raise the elememts by keys.*\n"
      ],
      "metadata": {
        "id": "qlRNqd8njIQp"
      }
    },
    {
      "cell_type": "markdown",
      "source": [
        "# Practical Question"
      ],
      "metadata": {
        "id": "oFuVY-OGkZA_"
      }
    },
    {
      "cell_type": "markdown",
      "source": [
        "**Answer 1**"
      ],
      "metadata": {
        "id": "CjhUSXOn0ZlY"
      }
    },
    {
      "cell_type": "code",
      "source": [
        "Name=\"Vinayak Prasad Mukhanathu\"\n",
        "print(Name)"
      ],
      "metadata": {
        "id": "GGrAhcbcbMHI",
        "colab": {
          "base_uri": "https://localhost:8080/"
        },
        "outputId": "68f1c490-7e85-4b3e-94aa-fc0c46456fda"
      },
      "execution_count": 1,
      "outputs": [
        {
          "output_type": "stream",
          "name": "stdout",
          "text": [
            "Vinayak Prasad Mukhanathu\n"
          ]
        }
      ]
    },
    {
      "cell_type": "markdown",
      "source": [
        "**Answer 2**"
      ],
      "metadata": {
        "id": "8FTrqj-100Tv"
      }
    },
    {
      "cell_type": "code",
      "source": [
        "len(\"Hello World\")"
      ],
      "metadata": {
        "colab": {
          "base_uri": "https://localhost:8080/"
        },
        "id": "BT21Xwz606IA",
        "outputId": "bb59173c-7ea4-4f8d-ebbd-af40405d6d5a"
      },
      "execution_count": 3,
      "outputs": [
        {
          "output_type": "execute_result",
          "data": {
            "text/plain": [
              "11"
            ]
          },
          "metadata": {},
          "execution_count": 3
        }
      ]
    },
    {
      "cell_type": "markdown",
      "source": [
        "**Answer 3**"
      ],
      "metadata": {
        "id": "NavBWJQq1EUM"
      }
    },
    {
      "cell_type": "code",
      "source": [
        "CCC=\"Python programming\"\n",
        "print(CCC[0:3])"
      ],
      "metadata": {
        "colab": {
          "base_uri": "https://localhost:8080/"
        },
        "id": "KNAoUYGI1HlJ",
        "outputId": "cf1af0ee-f5d2-4cc6-8240-245380100087"
      },
      "execution_count": 5,
      "outputs": [
        {
          "output_type": "stream",
          "name": "stdout",
          "text": [
            "Pyt\n"
          ]
        }
      ]
    },
    {
      "cell_type": "markdown",
      "source": [
        "**Answer 4**"
      ],
      "metadata": {
        "id": "g4GAzeNm1het"
      }
    },
    {
      "cell_type": "code",
      "source": [
        "YYY=\"Hello\"\n",
        "YYY.upper()"
      ],
      "metadata": {
        "colab": {
          "base_uri": "https://localhost:8080/",
          "height": 36
        },
        "id": "ODFnrRlM1kbw",
        "outputId": "05197a9a-63ec-4539-b217-0fa1d00ed79c"
      },
      "execution_count": 8,
      "outputs": [
        {
          "output_type": "execute_result",
          "data": {
            "text/plain": [
              "'HELLO'"
            ],
            "application/vnd.google.colaboratory.intrinsic+json": {
              "type": "string"
            }
          },
          "metadata": {},
          "execution_count": 8
        }
      ]
    },
    {
      "cell_type": "markdown",
      "source": [
        "**Answer 5**\n",
        "\n",
        "*No ,it is not possible because because in string ,the elements are immutable .It can't be changeable.It can't be remove,add,and insert.In the string the word apple can't be replace with orange.*"
      ],
      "metadata": {
        "id": "JS-lCwvK2SW7"
      }
    },
    {
      "cell_type": "markdown",
      "source": [
        "**Answer 6**"
      ],
      "metadata": {
        "id": "HjuUUVoM23z5"
      }
    },
    {
      "cell_type": "code",
      "source": [
        "my_list=[1,2,3,4,5]\n",
        "print(my_list)\n",
        "type(my_list)"
      ],
      "metadata": {
        "colab": {
          "base_uri": "https://localhost:8080/"
        },
        "id": "dxYSpjSM27wy",
        "outputId": "430d6404-4c8a-410f-b216-f6bb67b2de5a"
      },
      "execution_count": 9,
      "outputs": [
        {
          "output_type": "stream",
          "name": "stdout",
          "text": [
            "[1, 2, 3, 4, 5]\n"
          ]
        },
        {
          "output_type": "execute_result",
          "data": {
            "text/plain": [
              "list"
            ]
          },
          "metadata": {},
          "execution_count": 9
        }
      ]
    },
    {
      "cell_type": "markdown",
      "source": [
        "**Answer 7**"
      ],
      "metadata": {
        "id": "FO7Id0b03hTO"
      }
    },
    {
      "cell_type": "code",
      "source": [
        "my_list=[1,2,3,4]\n",
        "my_list.append(10)\n",
        "print(my_list)"
      ],
      "metadata": {
        "colab": {
          "base_uri": "https://localhost:8080/"
        },
        "id": "VhbDvm8I2U-v",
        "outputId": "0d8c51d6-e3c3-41ed-a2b4-c5c9b9a435fe"
      },
      "execution_count": 11,
      "outputs": [
        {
          "output_type": "stream",
          "name": "stdout",
          "text": [
            "[1, 2, 3, 4, 10]\n"
          ]
        }
      ]
    },
    {
      "cell_type": "markdown",
      "source": [
        "**Answer 8**"
      ],
      "metadata": {
        "id": "PZD90NqN4IeT"
      }
    },
    {
      "cell_type": "code",
      "source": [
        "my_list=[1,2,3,4,5]\n",
        "my_list.remove(3)\n",
        "print(my_list)"
      ],
      "metadata": {
        "colab": {
          "base_uri": "https://localhost:8080/"
        },
        "id": "KoOHs4yb4TiM",
        "outputId": "6939a16c-efcb-410b-8123-73543681fb49"
      },
      "execution_count": 15,
      "outputs": [
        {
          "output_type": "stream",
          "name": "stdout",
          "text": [
            "[1, 2, 4, 5]\n"
          ]
        }
      ]
    },
    {
      "cell_type": "markdown",
      "source": [
        "**Answer 9**"
      ],
      "metadata": {
        "id": "aaExI3o_5JC3"
      }
    },
    {
      "cell_type": "code",
      "source": [
        "My_list=['a','b','c','d']\n",
        "My_list[1]\n"
      ],
      "metadata": {
        "colab": {
          "base_uri": "https://localhost:8080/",
          "height": 36
        },
        "id": "op0Onu0G5NAP",
        "outputId": "6e18d1f5-3215-4e4c-b964-0c4d02c4e120"
      },
      "execution_count": 19,
      "outputs": [
        {
          "output_type": "execute_result",
          "data": {
            "text/plain": [
              "'b'"
            ],
            "application/vnd.google.colaboratory.intrinsic+json": {
              "type": "string"
            }
          },
          "metadata": {},
          "execution_count": 19
        }
      ]
    },
    {
      "cell_type": "markdown",
      "source": [
        "**Answer 10**"
      ],
      "metadata": {
        "id": "HIJdgHkM5_Of"
      }
    },
    {
      "cell_type": "code",
      "source": [
        "my_list=[10,20,30,40,50]\n",
        "my_list[::-1]"
      ],
      "metadata": {
        "colab": {
          "base_uri": "https://localhost:8080/"
        },
        "id": "Fho6_6uv6Dq0",
        "outputId": "81455d40-c3c4-4646-87f2-242f78c52f38"
      },
      "execution_count": 20,
      "outputs": [
        {
          "output_type": "execute_result",
          "data": {
            "text/plain": [
              "[50, 40, 30, 20, 10]"
            ]
          },
          "metadata": {},
          "execution_count": 20
        }
      ]
    },
    {
      "cell_type": "markdown",
      "source": [
        "**Answer 11**"
      ],
      "metadata": {
        "id": "MInm0qEm6hgf"
      }
    },
    {
      "cell_type": "code",
      "source": [
        "my_tuple=(100,200,300)\n",
        "print(my_tuple)\n",
        "type(my_tuple)"
      ],
      "metadata": {
        "colab": {
          "base_uri": "https://localhost:8080/"
        },
        "id": "B-l4cNwj6lS9",
        "outputId": "7b8f4d12-8090-49af-aeae-61e358e82d79"
      },
      "execution_count": 23,
      "outputs": [
        {
          "output_type": "stream",
          "name": "stdout",
          "text": [
            "(100, 200, 300)\n"
          ]
        },
        {
          "output_type": "execute_result",
          "data": {
            "text/plain": [
              "tuple"
            ]
          },
          "metadata": {},
          "execution_count": 23
        }
      ]
    },
    {
      "cell_type": "markdown",
      "source": [
        "**Answer 12**"
      ],
      "metadata": {
        "id": "6p1g2PA27A9c"
      }
    },
    {
      "cell_type": "code",
      "source": [
        "my_tuple=('red','green','blue','yellow')\n",
        "my_tuple[1:]"
      ],
      "metadata": {
        "colab": {
          "base_uri": "https://localhost:8080/"
        },
        "id": "l1ViJr0n7Ekt",
        "outputId": "c0380084-aa35-4f88-d0f4-1062b2ab2fdb"
      },
      "execution_count": 25,
      "outputs": [
        {
          "output_type": "execute_result",
          "data": {
            "text/plain": [
              "('green', 'blue', 'yellow')"
            ]
          },
          "metadata": {},
          "execution_count": 25
        }
      ]
    },
    {
      "cell_type": "markdown",
      "source": [
        "**Answer13**"
      ],
      "metadata": {
        "id": "zkmgd-gE7n3D"
      }
    },
    {
      "cell_type": "code",
      "source": [
        "my_tuple=(10,20,5,15)\n",
        "min(my_tuple)"
      ],
      "metadata": {
        "colab": {
          "base_uri": "https://localhost:8080/"
        },
        "id": "AzVNNb2m7uNK",
        "outputId": "ca5ff707-b14a-4d54-90ba-eaed115475a8"
      },
      "execution_count": 31,
      "outputs": [
        {
          "output_type": "execute_result",
          "data": {
            "text/plain": [
              "5"
            ]
          },
          "metadata": {},
          "execution_count": 31
        }
      ]
    },
    {
      "cell_type": "markdown",
      "source": [
        "**Answer 14**"
      ],
      "metadata": {
        "id": "SO7YFM5b8dB2"
      }
    },
    {
      "cell_type": "code",
      "source": [
        "my_tuple=(\"dog\",\"cat\",\"rabbit\")\n",
        "my_tuple[1]"
      ],
      "metadata": {
        "colab": {
          "base_uri": "https://localhost:8080/",
          "height": 36
        },
        "id": "3huI6faB8PT9",
        "outputId": "991c454e-982b-416e-b2a9-0ab98a18bf88"
      },
      "execution_count": 33,
      "outputs": [
        {
          "output_type": "execute_result",
          "data": {
            "text/plain": [
              "'cat'"
            ],
            "application/vnd.google.colaboratory.intrinsic+json": {
              "type": "string"
            }
          },
          "metadata": {},
          "execution_count": 33
        }
      ]
    },
    {
      "cell_type": "markdown",
      "source": [
        "**Answer 15**"
      ],
      "metadata": {
        "id": "jTCXDmMs-LRw"
      }
    },
    {
      "cell_type": "code",
      "source": [
        "My_tuple=(\"Mango\",\"Apple\",\"Kiwi\")\n",
        "\"Kiwi\" in My_tuple"
      ],
      "metadata": {
        "colab": {
          "base_uri": "https://localhost:8080/"
        },
        "id": "-BOpzH05-PYy",
        "outputId": "2f7763cc-1e9b-413e-cc23-b85993c205ba"
      },
      "execution_count": 37,
      "outputs": [
        {
          "output_type": "execute_result",
          "data": {
            "text/plain": [
              "True"
            ]
          },
          "metadata": {},
          "execution_count": 37
        }
      ]
    },
    {
      "cell_type": "code",
      "source": [
        "My_tuple=(\"Mango\",\"Apple\",\"Kiwi\")\n",
        "\"Kiwi\" in My_tuple\n",
        "print(My_tuple)"
      ],
      "metadata": {
        "colab": {
          "base_uri": "https://localhost:8080/"
        },
        "id": "O04RxKJ6KH2I",
        "outputId": "fe07d166-d2f4-4a84-ecbf-8eb4395add23"
      },
      "execution_count": 68,
      "outputs": [
        {
          "output_type": "stream",
          "name": "stdout",
          "text": [
            "('Mango', 'Apple', 'Kiwi')\n"
          ]
        }
      ]
    },
    {
      "cell_type": "markdown",
      "source": [
        "**Answer 16**"
      ],
      "metadata": {
        "id": "Vvkx1czs_i27"
      }
    },
    {
      "cell_type": "code",
      "source": [
        "my_set={'a','b','c'}\n",
        "print(my_set)\n",
        "type(my_set)"
      ],
      "metadata": {
        "colab": {
          "base_uri": "https://localhost:8080/"
        },
        "id": "pH29CH2U_mIp",
        "outputId": "bb299550-1987-4ed3-f08a-d2366891556c"
      },
      "execution_count": 38,
      "outputs": [
        {
          "output_type": "stream",
          "name": "stdout",
          "text": [
            "{'a', 'c', 'b'}\n"
          ]
        },
        {
          "output_type": "execute_result",
          "data": {
            "text/plain": [
              "set"
            ]
          },
          "metadata": {},
          "execution_count": 38
        }
      ]
    },
    {
      "cell_type": "markdown",
      "source": [
        "**Answer 17**"
      ],
      "metadata": {
        "id": "BbA7pb9CAOdi"
      }
    },
    {
      "cell_type": "code",
      "source": [
        "my_set={1,2,3,4,5}\n",
        "my_set.clear()\n"
      ],
      "metadata": {
        "id": "o2hAmdS4ATUM"
      },
      "execution_count": 42,
      "outputs": []
    },
    {
      "cell_type": "markdown",
      "source": [
        "**Answer 18**"
      ],
      "metadata": {
        "id": "EXVQfg-7A2gR"
      }
    },
    {
      "cell_type": "code",
      "source": [
        "my_set={1,2,3,4}\n",
        "my_set.remove(4)\n",
        "print(my_set)\n"
      ],
      "metadata": {
        "colab": {
          "base_uri": "https://localhost:8080/"
        },
        "id": "1myWOL6OBDHk",
        "outputId": "3707febe-aabe-47cc-a41e-1711244017d9"
      },
      "execution_count": 43,
      "outputs": [
        {
          "output_type": "stream",
          "name": "stdout",
          "text": [
            "{1, 2, 3}\n"
          ]
        }
      ]
    },
    {
      "cell_type": "markdown",
      "source": [
        "**Answer 19**"
      ],
      "metadata": {
        "id": "WdHyZXp8BapM"
      }
    },
    {
      "cell_type": "code",
      "source": [
        "AAA={1,2,3}\n",
        "BBB={3,4,5}\n",
        "DDD=AAA.intersection(BBB)\n",
        "print(DDD)"
      ],
      "metadata": {
        "colab": {
          "base_uri": "https://localhost:8080/"
        },
        "id": "ks084ClLB4xG",
        "outputId": "fed94791-f9aa-49ab-edb4-d592b52fd9f9"
      },
      "execution_count": 48,
      "outputs": [
        {
          "output_type": "stream",
          "name": "stdout",
          "text": [
            "{3}\n"
          ]
        }
      ]
    },
    {
      "cell_type": "code",
      "source": [
        "AAA={1,2,3}\n",
        "BBB={3,4,5}\n",
        "DDD=AAA&BBB\n",
        "print(DDD)"
      ],
      "metadata": {
        "colab": {
          "base_uri": "https://localhost:8080/"
        },
        "id": "Txs-XVBBDnXH",
        "outputId": "7cb04eb7-5d33-4edd-bd75-c59ac004ca14"
      },
      "execution_count": 49,
      "outputs": [
        {
          "output_type": "stream",
          "name": "stdout",
          "text": [
            "{3}\n"
          ]
        }
      ]
    },
    {
      "cell_type": "markdown",
      "source": [
        "**Answer 20**"
      ],
      "metadata": {
        "id": "KBfXBkbMCHTf"
      }
    },
    {
      "cell_type": "code",
      "source": [
        "AAA={1,2,3}\n",
        "BBB={2,3,4}\n",
        "DDD=AAA.union(BBB)\n",
        "print(DDD)"
      ],
      "metadata": {
        "colab": {
          "base_uri": "https://localhost:8080/"
        },
        "id": "479wTdQbCXPF",
        "outputId": "3deb83c5-3fee-41b7-d133-80e9faa9662a"
      },
      "execution_count": 50,
      "outputs": [
        {
          "output_type": "stream",
          "name": "stdout",
          "text": [
            "{1, 2, 3, 4}\n"
          ]
        }
      ]
    },
    {
      "cell_type": "code",
      "source": [
        "AAA={1,2,3}\n",
        "BBB={2,3,4}\n",
        "DDD=AAA|BBB\n",
        "print(DDD)"
      ],
      "metadata": {
        "colab": {
          "base_uri": "https://localhost:8080/"
        },
        "id": "5sBjNzgeFcd7",
        "outputId": "8b6c1d7a-a725-442a-b4ba-dbdbf63245ad"
      },
      "execution_count": 52,
      "outputs": [
        {
          "output_type": "stream",
          "name": "stdout",
          "text": [
            "{1, 2, 3, 4}\n"
          ]
        }
      ]
    },
    {
      "cell_type": "markdown",
      "source": [
        "**Answer 21**"
      ],
      "metadata": {
        "id": "aSkV942LFxVq"
      }
    },
    {
      "cell_type": "code",
      "source": [
        "my_dictionary={\"name\":\"Vinayak\",\"age\":20,\"city\":\"Thrissur,Kerala\"}\n",
        "print(my_dictionary)\n",
        "type(my_dictionary)"
      ],
      "metadata": {
        "colab": {
          "base_uri": "https://localhost:8080/"
        },
        "id": "QZEbGzR3F4Ca",
        "outputId": "97ebb324-9aa4-44d4-86e7-ca2d4f6a2d56"
      },
      "execution_count": 53,
      "outputs": [
        {
          "output_type": "stream",
          "name": "stdout",
          "text": [
            "{'name': 'Vinayak', 'age': 20, 'city': 'Thrissur,Kerala'}\n"
          ]
        },
        {
          "output_type": "execute_result",
          "data": {
            "text/plain": [
              "dict"
            ]
          },
          "metadata": {},
          "execution_count": 53
        }
      ]
    },
    {
      "cell_type": "markdown",
      "source": [
        "**Answer 22**\n"
      ],
      "metadata": {
        "id": "EDH9_UbuGM_W"
      }
    },
    {
      "cell_type": "code",
      "source": [
        "my_dictionary={\"name\":\"John\",\"age\":25}\n",
        "my_dictionary[\"country\"]=\"USA\"\n",
        "print(my_dictionary)"
      ],
      "metadata": {
        "colab": {
          "base_uri": "https://localhost:8080/"
        },
        "id": "3T2y7hlnGTFo",
        "outputId": "9139671b-0a63-4be4-9e5e-2c628f90590b"
      },
      "execution_count": 62,
      "outputs": [
        {
          "output_type": "stream",
          "name": "stdout",
          "text": [
            "{'name': 'John', 'age': 25, 'country': 'USA'}\n"
          ]
        }
      ]
    },
    {
      "cell_type": "markdown",
      "source": [
        "**Answer 23**"
      ],
      "metadata": {
        "id": "j3PmUkaZHhNs"
      }
    },
    {
      "cell_type": "code",
      "source": [
        "my_dictionary={\"name\":\"Alice\",\"age\":30}\n",
        "my_dictionary[\"name\"]"
      ],
      "metadata": {
        "colab": {
          "base_uri": "https://localhost:8080/",
          "height": 36
        },
        "id": "pk1slLvTHpTb",
        "outputId": "90c03bce-8022-49ce-8d39-e66ae35c1d58"
      },
      "execution_count": 64,
      "outputs": [
        {
          "output_type": "execute_result",
          "data": {
            "text/plain": [
              "'Alice'"
            ],
            "application/vnd.google.colaboratory.intrinsic+json": {
              "type": "string"
            }
          },
          "metadata": {},
          "execution_count": 64
        }
      ]
    },
    {
      "cell_type": "markdown",
      "source": [
        "**Answer 24**"
      ],
      "metadata": {
        "id": "FOXEEOfiJIsG"
      }
    },
    {
      "cell_type": "code",
      "source": [
        "my_dictionary={\"name\":\"Bob\",\"age\":22,\"city\":\"New York\"}\n",
        "del my_dictionary[\"age\"]\n",
        "print(my_dictionary)"
      ],
      "metadata": {
        "colab": {
          "base_uri": "https://localhost:8080/"
        },
        "id": "xKSFd7XFJOHJ",
        "outputId": "a74af33e-bc52-43f1-e209-d8afc94bda13"
      },
      "execution_count": 65,
      "outputs": [
        {
          "output_type": "stream",
          "name": "stdout",
          "text": [
            "{'name': 'Bob', 'city': 'New York'}\n"
          ]
        }
      ]
    },
    {
      "cell_type": "markdown",
      "source": [
        "**Answer 25**"
      ],
      "metadata": {
        "id": "OLIeKbIFJ2Z_"
      }
    },
    {
      "cell_type": "code",
      "source": [
        "my_dictionary={\"name\":\"Alice\",\"city\":\"Paris\"}\n",
        "print(\"city\"in my_dictionary)"
      ],
      "metadata": {
        "colab": {
          "base_uri": "https://localhost:8080/"
        },
        "id": "6sIQGq8FJ6Ik",
        "outputId": "00a620d9-cfe4-483d-c2e0-089d220c7d58"
      },
      "execution_count": 70,
      "outputs": [
        {
          "output_type": "stream",
          "name": "stdout",
          "text": [
            "True\n"
          ]
        }
      ]
    },
    {
      "cell_type": "code",
      "source": [
        "my_dictionary={\"name\":\"Alice\",\"city\":\"Paris\"}\n",
        "\"city\"not in my_dictionary\n",
        "print( my_dictionary)"
      ],
      "metadata": {
        "colab": {
          "base_uri": "https://localhost:8080/"
        },
        "id": "DcPv5_TxLAkV",
        "outputId": "b1fd1bcb-0ee9-4ff8-8c62-c78c4779d773"
      },
      "execution_count": 71,
      "outputs": [
        {
          "output_type": "stream",
          "name": "stdout",
          "text": [
            "{'name': 'Alice', 'city': 'Paris'}\n"
          ]
        }
      ]
    },
    {
      "cell_type": "markdown",
      "source": [
        "**Answer 26**"
      ],
      "metadata": {
        "id": "s6D84GIfLRnO"
      }
    },
    {
      "cell_type": "code",
      "source": [
        "AAA=[\"Vinayak Prasad\",True,False,99,678.999]\n",
        "DDD={1,2,3,\"Vinayak,8.9\"}\n",
        "VVV={\"name\":\"Vinayak\",\"age\":20}\n",
        "print(AAA)\n",
        "print(DDD)\n",
        "print(VVV)\n"
      ],
      "metadata": {
        "colab": {
          "base_uri": "https://localhost:8080/"
        },
        "id": "0pxWHV7qMZaD",
        "outputId": "a7802511-2e80-486c-cb94-746557aae723"
      },
      "execution_count": 77,
      "outputs": [
        {
          "output_type": "stream",
          "name": "stdout",
          "text": [
            "['Vinayak Prasad', True, False, 99, 678.999]\n",
            "{1, 2, 3, 'Vinayak,8.9'}\n",
            "{'name': 'Vinayak', 'age': 20}\n"
          ]
        }
      ]
    },
    {
      "cell_type": "markdown",
      "source": [
        "**Answer 27**"
      ],
      "metadata": {
        "id": "ZXUG0l5JNV-p"
      }
    },
    {
      "cell_type": "code",
      "source": [
        "my_list=[25.35,50,10]\n",
        "my_list.sort()"
      ],
      "metadata": {
        "id": "9P-JJOoZOiRT"
      },
      "execution_count": 89,
      "outputs": []
    },
    {
      "cell_type": "code",
      "source": [
        "my_list"
      ],
      "metadata": {
        "colab": {
          "base_uri": "https://localhost:8080/"
        },
        "id": "Ho8OqejjPFtf",
        "outputId": "97e941f3-7071-4af1-f13e-5119dc6da1f2"
      },
      "execution_count": 90,
      "outputs": [
        {
          "output_type": "execute_result",
          "data": {
            "text/plain": [
              "[10, 25.35, 50]"
            ]
          },
          "metadata": {},
          "execution_count": 90
        }
      ]
    },
    {
      "cell_type": "markdown",
      "source": [
        "**Answer 28**"
      ],
      "metadata": {
        "id": "E732LUaQPJny"
      }
    },
    {
      "cell_type": "code",
      "source": [
        "My_list=(\"Vinayak\",\"Arjuna\",\"LOrd Krishnan\")\n",
        "Leader=My_list[2]\n",
        "print(Leader)\n"
      ],
      "metadata": {
        "colab": {
          "base_uri": "https://localhost:8080/"
        },
        "id": "MUkufzD7PNmf",
        "outputId": "e9f2ced3-1cb0-4fa5-c09d-aa3ebb9938da"
      },
      "execution_count": 91,
      "outputs": [
        {
          "output_type": "stream",
          "name": "stdout",
          "text": [
            "LOrd Krishnan\n"
          ]
        }
      ]
    },
    {
      "cell_type": "markdown",
      "source": [
        "**Answer 29**"
      ],
      "metadata": {
        "id": "gbBjIykOQDQ1"
      }
    },
    {
      "cell_type": "code",
      "source": [
        "x1={\"A\":1,\"B\":2}\n",
        "x2={\"C\":3,\"D\":4}\n",
        "x3=x1|x2\n",
        "print(x3)"
      ],
      "metadata": {
        "colab": {
          "base_uri": "https://localhost:8080/"
        },
        "id": "YFxNwWqHRxIQ",
        "outputId": "6e093424-836e-4211-de7a-ae050ac1c1e1"
      },
      "execution_count": 99,
      "outputs": [
        {
          "output_type": "stream",
          "name": "stdout",
          "text": [
            "{'A': 1, 'B': 2, 'C': 3, 'D': 4}\n"
          ]
        }
      ]
    },
    {
      "cell_type": "code",
      "source": [
        "x1={\"A\":1,\"B\":2}\n",
        "x2={\"C\":3,\"D\":4}\n",
        "x3={**x1,**x2}\n",
        "print(x3)"
      ],
      "metadata": {
        "colab": {
          "base_uri": "https://localhost:8080/"
        },
        "id": "7xmPa2RTSSgh",
        "outputId": "c641b460-988d-41dd-fbb5-6cb6d231ea78"
      },
      "execution_count": 102,
      "outputs": [
        {
          "output_type": "stream",
          "name": "stdout",
          "text": [
            "{'A': 1, 'B': 2, 'C': 3, 'D': 4}\n"
          ]
        }
      ]
    },
    {
      "cell_type": "code",
      "source": [
        "x1={\"A\":1,\"B\":2}\n",
        "x2={\"C\":3,\"D\":4}\n",
        "x3=x1.copy()\n",
        "x3.update(x2)\n",
        "print(x3)"
      ],
      "metadata": {
        "colab": {
          "base_uri": "https://localhost:8080/"
        },
        "id": "M6HAII5DSbe_",
        "outputId": "cf5e379e-985e-4eed-d81c-c7688bb7cbad"
      },
      "execution_count": 103,
      "outputs": [
        {
          "output_type": "stream",
          "name": "stdout",
          "text": [
            "{'A': 1, 'B': 2, 'C': 3, 'D': 4}\n"
          ]
        }
      ]
    },
    {
      "cell_type": "markdown",
      "source": [
        "**Answer 30**"
      ],
      "metadata": {
        "id": "5TFzpVIvSnYP"
      }
    },
    {
      "cell_type": "code",
      "source": [
        "MY_LIST=[\"bABY\",\"BABY\",\"baby\"]\n",
        "MY_SET=set(MY_LIST)\n",
        "print(MY_SET)\n",
        "type(MY_SET)"
      ],
      "metadata": {
        "colab": {
          "base_uri": "https://localhost:8080/"
        },
        "id": "S56xDVAGSr1q",
        "outputId": "56397337-bb69-48ce-d21c-a525e779d50c"
      },
      "execution_count": 106,
      "outputs": [
        {
          "output_type": "stream",
          "name": "stdout",
          "text": [
            "{'baby', 'bABY', 'BABY'}\n"
          ]
        },
        {
          "output_type": "execute_result",
          "data": {
            "text/plain": [
              "set"
            ]
          },
          "metadata": {},
          "execution_count": 106
        }
      ]
    },
    {
      "cell_type": "markdown",
      "source": [
        "# THE END"
      ],
      "metadata": {
        "id": "7dVITF-wSssT"
      }
    }
  ]
}